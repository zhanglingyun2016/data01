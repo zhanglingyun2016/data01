{
 "cells": [
  {
   "cell_type": "markdown",
   "metadata": {},
   "source": [
    "## 泰坦尼克号获救预测 "
   ]
  },
  {
   "cell_type": "code",
   "execution_count": 19,
   "metadata": {},
   "outputs": [],
   "source": [
    "import numpy as np\n",
    "import pandas as pd\n",
    "from sklearn.linear_model import LinearRegression\n",
    "# from sklearn.cross_validation import KFold\n",
    "from sklearn.model_selection import train_test_split"
   ]
  },
  {
   "cell_type": "code",
   "execution_count": 9,
   "metadata": {},
   "outputs": [
    {
     "name": "stdout",
     "output_type": "stream",
     "text": [
      "       passengerId     survived       pclass          age        sibsp  \\\n",
      "count  1127.000000  1127.000000  1127.000000  1111.000000  1127.000000   \n",
      "mean    564.000000     0.598048     1.890861    68.522952     1.470275   \n",
      "std     325.481182     0.490510     0.820246    16.290968     1.200486   \n",
      "min       1.000000     0.000000     1.000000    36.000000     0.000000   \n",
      "25%     282.500000     0.000000     1.000000    56.000000     0.000000   \n",
      "50%     564.000000     1.000000     2.000000    75.000000     2.000000   \n",
      "75%     845.500000     1.000000     3.000000    76.000000     3.000000   \n",
      "max    1127.000000     1.000000     3.000000   100.000000     3.000000   \n",
      "\n",
      "             parch        ticket         fare  \n",
      "count  1127.000000  1.127000e+03  1127.000000  \n",
      "mean      0.236912  2.221683e+06  2344.621118  \n",
      "std       0.425377  9.119947e+05  1092.806667  \n",
      "min       0.000000  1.474555e+06  1242.000000  \n",
      "25%       0.000000  1.478516e+06  1479.000000  \n",
      "50%       0.000000  1.998072e+06  1609.000000  \n",
      "75%       0.000000  3.644476e+06  3711.500000  \n",
      "max       1.000000  3.644758e+06  3872.000000  \n"
     ]
    }
   ],
   "source": [
    "titanic = pd.read_csv(\"C:/Users/Java02-张凌云/Desktop/taitan.csv\")\n",
    "# 查看数据，age字段出现缺失\n",
    "print (titanic.describe())"
   ]
  },
  {
   "cell_type": "code",
   "execution_count": 10,
   "metadata": {},
   "outputs": [
    {
     "name": "stdout",
     "output_type": "stream",
     "text": [
      "       passengerId     survived       pclass        sibsp        parch  \\\n",
      "count  1127.000000  1127.000000  1127.000000  1127.000000  1127.000000   \n",
      "mean    564.000000     0.598048     1.890861     1.470275     0.236912   \n",
      "std     325.481182     0.490510     0.820246     1.200486     0.425377   \n",
      "min       1.000000     0.000000     1.000000     0.000000     0.000000   \n",
      "25%     282.500000     0.000000     1.000000     0.000000     0.000000   \n",
      "50%     564.000000     1.000000     2.000000     2.000000     0.000000   \n",
      "75%     845.500000     1.000000     3.000000     3.000000     0.000000   \n",
      "max    1127.000000     1.000000     3.000000     3.000000     1.000000   \n",
      "\n",
      "             ticket         fare  \n",
      "count  1.127000e+03  1127.000000  \n",
      "mean   2.221683e+06  2344.621118  \n",
      "std    9.119947e+05  1092.806667  \n",
      "min    1.474555e+06  1242.000000  \n",
      "25%    1.478516e+06  1479.000000  \n",
      "50%    1.998072e+06  1609.000000  \n",
      "75%    3.644476e+06  3711.500000  \n",
      "max    3.644758e+06  3872.000000  \n"
     ]
    }
   ],
   "source": [
    "# 对age字段缺失的数据进行填充 均值\n",
    "titanic[\"age\"] = titanic[\"age\"].fillna(titanic[\"age\"].median)\n",
    "print(titanic.describe())"
   ]
  },
  {
   "cell_type": "code",
   "execution_count": 12,
   "metadata": {},
   "outputs": [
    {
     "name": "stdout",
     "output_type": "stream",
     "text": [
      "['man' 'woman']\n"
     ]
    }
   ],
   "source": [
    "# 性别\n",
    "# 字符到数值的转化\n",
    "print(titanic[\"sex\"].unique())\n",
    "titanic.loc[titanic[\"sex\"] == \"man\",\"sex\"] = 0\n",
    "titanic.loc[titanic[\"sex\"] == \"woman\",\"sex\"] = 1"
   ]
  },
  {
   "cell_type": "code",
   "execution_count": 15,
   "metadata": {},
   "outputs": [
    {
     "name": "stdout",
     "output_type": "stream",
     "text": [
      "[0 'A' 'M' 'Q' 'F' 'W' 'O']\n"
     ]
    }
   ],
   "source": [
    "# 上船地点\n",
    "print(titanic[\"eabarked\"].unique())\n",
    "#将字符到数值型的转换\n",
    "titanic.loc[titanic[\"eabarked\"] == \"S\",\"eabarked\"] = 0\n",
    "titanic.loc[titanic[\"eabarked\"] == \"A\",\"eabarked\"] = 1\n",
    "titanic.loc[titanic[\"eabarked\"] == \"M\",\"eabarked\"] = 2\n",
    "titanic.loc[titanic[\"eabarked\"] == \"Q\",\"eabarked\"] = 3\n",
    "titanic.loc[titanic[\"eabarked\"] == \"F\",\"eabarked\"] = 4\n",
    "titanic.loc[titanic[\"eabarked\"] == \"W\",\"eabarked\"] = 5\n",
    "titanic.loc[titanic[\"eabarked\"] == \"O\",\"eabarked\"] = 6"
   ]
  },
  {
   "cell_type": "code",
   "execution_count": 22,
   "metadata": {},
   "outputs": [
    {
     "ename": "TypeError",
     "evalue": "Invalid parameters passed: {'n_folds': 3}",
     "output_type": "error",
     "traceback": [
      "\u001b[1;31m---------------------------------------------------------------------------\u001b[0m",
      "\u001b[1;31mTypeError\u001b[0m                                 Traceback (most recent call last)",
      "\u001b[1;32m<ipython-input-22-e355baeb000e>\u001b[0m in \u001b[0;36m<module>\u001b[1;34m\u001b[0m\n\u001b[0;32m      1\u001b[0m \u001b[0mpredictors\u001b[0m \u001b[1;33m=\u001b[0m \u001b[1;33m[\u001b[0m\u001b[1;34m\"pclass\"\u001b[0m\u001b[1;33m,\u001b[0m\u001b[1;34m\"sex\"\u001b[0m\u001b[1;33m,\u001b[0m\u001b[1;34m\"age\"\u001b[0m\u001b[1;33m,\u001b[0m\u001b[1;34m\"sibsp\"\u001b[0m\u001b[1;33m,\u001b[0m\u001b[1;34m\"parch\"\u001b[0m\u001b[1;33m,\u001b[0m\u001b[1;34m\"fare\"\u001b[0m\u001b[1;33m,\u001b[0m\u001b[1;34m\"embarked\"\u001b[0m\u001b[1;33m]\u001b[0m\u001b[1;33m\u001b[0m\u001b[1;33m\u001b[0m\u001b[0m\n\u001b[0;32m      2\u001b[0m \u001b[0malg\u001b[0m \u001b[1;33m=\u001b[0m \u001b[0mLinearRegression\u001b[0m\u001b[1;33m(\u001b[0m\u001b[1;33m)\u001b[0m\u001b[1;33m\u001b[0m\u001b[1;33m\u001b[0m\u001b[0m\n\u001b[1;32m----> 3\u001b[1;33m \u001b[0mkf\u001b[0m \u001b[1;33m=\u001b[0m \u001b[0mtrain_test_split\u001b[0m\u001b[1;33m(\u001b[0m\u001b[0mtitanic\u001b[0m\u001b[1;33m.\u001b[0m\u001b[0mshape\u001b[0m\u001b[1;33m[\u001b[0m\u001b[1;36m0\u001b[0m\u001b[1;33m]\u001b[0m\u001b[1;33m,\u001b[0m\u001b[0mn_folds\u001b[0m\u001b[1;33m=\u001b[0m\u001b[1;36m3\u001b[0m\u001b[1;33m,\u001b[0m\u001b[0mrandom_state\u001b[0m\u001b[1;33m=\u001b[0m\u001b[1;36m1\u001b[0m\u001b[1;33m)\u001b[0m\u001b[1;33m\u001b[0m\u001b[1;33m\u001b[0m\u001b[0m\n\u001b[0m",
      "\u001b[1;32mG:\\Anaconda1\\lib\\site-packages\\sklearn\\model_selection\\_split.py\u001b[0m in \u001b[0;36mtrain_test_split\u001b[1;34m(*arrays, **options)\u001b[0m\n\u001b[0;32m   2123\u001b[0m \u001b[1;33m\u001b[0m\u001b[0m\n\u001b[0;32m   2124\u001b[0m     \u001b[1;32mif\u001b[0m \u001b[0moptions\u001b[0m\u001b[1;33m:\u001b[0m\u001b[1;33m\u001b[0m\u001b[1;33m\u001b[0m\u001b[0m\n\u001b[1;32m-> 2125\u001b[1;33m         \u001b[1;32mraise\u001b[0m \u001b[0mTypeError\u001b[0m\u001b[1;33m(\u001b[0m\u001b[1;34m\"Invalid parameters passed: %s\"\u001b[0m \u001b[1;33m%\u001b[0m \u001b[0mstr\u001b[0m\u001b[1;33m(\u001b[0m\u001b[0moptions\u001b[0m\u001b[1;33m)\u001b[0m\u001b[1;33m)\u001b[0m\u001b[1;33m\u001b[0m\u001b[1;33m\u001b[0m\u001b[0m\n\u001b[0m\u001b[0;32m   2126\u001b[0m \u001b[1;33m\u001b[0m\u001b[0m\n\u001b[0;32m   2127\u001b[0m     \u001b[0marrays\u001b[0m \u001b[1;33m=\u001b[0m \u001b[0mindexable\u001b[0m\u001b[1;33m(\u001b[0m\u001b[1;33m*\u001b[0m\u001b[0marrays\u001b[0m\u001b[1;33m)\u001b[0m\u001b[1;33m\u001b[0m\u001b[1;33m\u001b[0m\u001b[0m\n",
      "\u001b[1;31mTypeError\u001b[0m: Invalid parameters passed: {'n_folds': 3}"
     ]
    }
   ],
   "source": [
    "predictors = [\"pclass\",\"sex\",\"age\",\"sibsp\",\"parch\",\"fare\",\"embarked\"]\n",
    "alg = LinearRegression()\n",
    "kf = train_test_split(titanic.shape[0],n_folds=3,random_state=1)"
   ]
  }
 ],
 "metadata": {
  "kernelspec": {
   "display_name": "Python 3",
   "language": "python",
   "name": "python3"
  },
  "language_info": {
   "codemirror_mode": {
    "name": "ipython",
    "version": 3
   },
   "file_extension": ".py",
   "mimetype": "text/x-python",
   "name": "python",
   "nbconvert_exporter": "python",
   "pygments_lexer": "ipython3",
   "version": "3.6.8"
  }
 },
 "nbformat": 4,
 "nbformat_minor": 2
}
