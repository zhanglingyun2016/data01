{
 "cells": [
  {
   "cell_type": "markdown",
   "metadata": {},
   "source": [
    "## 机器学习"
   ]
  },
  {
   "cell_type": "code",
   "execution_count": 1,
   "metadata": {},
   "outputs": [
    {
     "name": "stdout",
     "output_type": "stream",
     "text": [
      "[0 0 0 0 0 0 0 0 0 0 0 0 0 0 0 0 0 0 0 0 0 0 0 0 0 0 0 0 0 0 0 0 0 0 0 0 0\n",
      " 0 0 0 0 0 0 0 0 0 0 0 0 0 1 1 1 1 1 1 1 1 1 1 1 1 1 1 1 1 1 1 1 1 1 1 1 1\n",
      " 1 1 1 1 1 1 1 1 1 1 1 1 1 1 1 1 1 1 1 1 1 1 1 1 1 1 2 2 2 2 2 2 2 2 2 2 2\n",
      " 2 2 2 2 2 2 2 2 2 2 2 2 2 2 2 2 2 2 2 2 2 2 2 2 2 2 2 2 2 2 2 2 2 2 2 2 2\n",
      " 2 2]\n",
      "[1 1 1 1 1 2 0 0 0 2 0 0 0 2 0 2 2 1 2 0 0 2 2 1 1 2 0 2 1 2 0 2 0 0 0 1 0\n",
      " 0 2 2 2 2 0 2 0 1 0 1 2 1 2 2 0 2 1 1 0 2 1 0 1 0 1 0 1 1 2 2 0 0 0 0 1 1\n",
      " 1 2 2 0 2 0 1 2 0 2 0 2 0 0 1 2 1 2 2 2 0 0 1 1 2 2 2 2 1 0 0]\n"
     ]
    }
   ],
   "source": [
    "import numpy as np\n",
    "from sklearn import datasets\n",
    "from sklearn.model_selection import train_test_split\n",
    "from sklearn.neighbors import KNeighborsClassifier\n",
    "\n",
    "iris = datasets.load_iris()\n",
    "iris_x = iris.data  #将花的属性存储到data里面\n",
    "iris_y = iris.target  #将花的分类存储到target中\n",
    "\n",
    "# print(iris_x[:2,:]) #根据切片选出前两行的所有列\n",
    "print(iris_y)   #将会有三种类别\n",
    "\n",
    "\n",
    "# 将总的数据和进行拆开，分为学习和测试，且测试的比例占0.3\n",
    "x_train,x_test,y_train,y_test = train_test_split(iris_x,iris_y,test_size=0.3)\n",
    "print(y_train)\n",
    "\n",
    "\n"
   ]
  }
 ],
 "metadata": {
  "kernelspec": {
   "display_name": "Python 3",
   "language": "python",
   "name": "python3"
  },
  "language_info": {
   "codemirror_mode": {
    "name": "ipython",
    "version": 3
   },
   "file_extension": ".py",
   "mimetype": "text/x-python",
   "name": "python",
   "nbconvert_exporter": "python",
   "pygments_lexer": "ipython3",
   "version": "3.6.8"
  }
 },
 "nbformat": 4,
 "nbformat_minor": 2
}
