{
 "cells": [
  {
   "cell_type": "code",
   "execution_count": 2,
   "metadata": {},
   "outputs": [],
   "source": [
    "import pandas as pd\n",
    "\n",
    "dat_load=pd.read_excel(r'C:\\Users\\leadlu\\Desktop\\bankloan1.xls')"
   ]
  },
  {
   "cell_type": "code",
   "execution_count": 3,
   "metadata": {},
   "outputs": [],
   "source": [
    "dummy_frame=pd.DataFrame(pd.get_dummies(dat_load['教育']).values,columns=['教育1','教育2','教育3','教育4','教育5',])"
   ]
  },
  {
   "cell_type": "code",
   "execution_count": 4,
   "metadata": {},
   "outputs": [],
   "source": [
    "dat_load=pd.concat([dat_load, dummy_frame], axis =1 )"
   ]
  },
  {
   "cell_type": "code",
   "execution_count": 5,
   "metadata": {},
   "outputs": [],
   "source": [
    "del dat_load['教育']\n",
    "data_new=dat_load.reindex(columns=['年龄','教育1','教育2','教育3','教育4','教育5','工龄','地址','收入','负债率','信用卡负债','其他负债','违约'])"
   ]
  },
  {
   "cell_type": "code",
   "execution_count": 83,
   "metadata": {},
   "outputs": [],
   "source": [
    "import pandas as pd\n",
    "import numpy as np\n",
    "def pricise_func(ary_theo,ar_known):\n",
    "    score=0\n",
    "    bool_1=ary_theo>0.5\n",
    "    bool_2=ar_known==1\n",
    "    bool_2_list=list(bool_2)\n",
    "    for j in range(bool_1.shape[0]):\n",
    "        #print(not(bool_2_list[j]))\n",
    "        if (bool_1[j] and bool_2_list[j])or(not(bool_1[j]) and not(bool_2_list[j])):\n",
    "            score+=1\n",
    "    return score/len(ar_known)\n",
    "def logit(x): \n",
    "    return 1./(1+np.exp(-x))\n",
    "def logitic_fuc_add_para(X,Y,alpha=0.0065,iteration_1=3000):\n",
    "    m,n = X.shape #矩阵大小\n",
    "    #alpha = 0.0065 #设定学习速率\n",
    "    theta_g = np.zeros(n) #初始化参数\n",
    "    #iteration_1=3000\n",
    "    J = pd.Series(np.zeros(iteration_1, dtype = float)) #构造损失函数承载器\n",
    "    for i in range(iteration_1):\n",
    "        h = logit(np.dot(X, theta_g)) #回归函数\n",
    "        #J[i] = -(1/m)*np.sum(Y*np.log(h)+(1-Y)*np.log(1-h)) #计算损失函数值      \n",
    "        diff = h - Y #概率差\n",
    "        grad = np.dot(X.T, diff) #梯度,\n",
    "        theta_g -= alpha * grad#调节学习速率，会得到不同曲线\n",
    "    #J.plot()\n",
    "    #plt.show()\n",
    "    return logit(np.dot(X, theta_g)),theta_g"
   ]
  },
  {
   "cell_type": "code",
   "execution_count": 94,
   "metadata": {},
   "outputs": [
    {
     "name": "stdout",
     "output_type": "stream",
     "text": [
      "0.8\n"
     ]
    }
   ],
   "source": [
    "import pandas as pd\n",
    "ary_theo=logitic_fuc_add_para(data_new.loc[:649,'年龄':'其他负债'],data_new.loc[:649,'违约'],alpha=0.0000005,iteration_1=3000)\n",
    "wp=logit(np.dot(data_new.loc[650:,'年龄':'其他负债'],ary_theo[1]))\n",
    "print(pricise_func(wp,data_new.loc[650:,'违约']))"
   ]
  },
  {
   "cell_type": "code",
   "execution_count": null,
   "metadata": {},
   "outputs": [],
   "source": []
  }
 ],
 "metadata": {
  "kernelspec": {
   "display_name": "Python 3",
   "language": "python",
   "name": "python3"
  },
  "language_info": {
   "codemirror_mode": {
    "name": "ipython",
    "version": 3
   },
   "file_extension": ".py",
   "mimetype": "text/x-python",
   "name": "python",
   "nbconvert_exporter": "python",
   "pygments_lexer": "ipython3",
   "version": "3.6.5"
  }
 },
 "nbformat": 4,
 "nbformat_minor": 2
}
