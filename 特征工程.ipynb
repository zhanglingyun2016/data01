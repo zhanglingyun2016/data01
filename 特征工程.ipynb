{
 "cells": [
  {
   "cell_type": "code",
   "execution_count": 38,
   "metadata": {},
   "outputs": [],
   "source": [
    "import numpy as np\n",
    "import pandas as pd\n",
    "from sklearn.feature_selection import VarianceThreshold\n",
    "from scipy.stats import f"
   ]
  },
  {
   "cell_type": "code",
   "execution_count": 2,
   "metadata": {},
   "outputs": [
    {
     "data": {
      "text/plain": [
       "array([[7, 7, 7, 7],\n",
       "       [7, 7, 7, 7],\n",
       "       [7, 7, 7, 7],\n",
       "       ...,\n",
       "       [7, 7, 7, 7],\n",
       "       [7, 7, 7, 7],\n",
       "       [7, 7, 7, 6]])"
      ]
     },
     "execution_count": 2,
     "metadata": {},
     "output_type": "execute_result"
    }
   ],
   "source": [
    "np.random.seed(4)\n",
    "X = np.random.randint(6,8,(300,5))\n",
    "X_fr=pd.DataFrame(X)\n",
    "X_fr[X_fr[0]==6]=7\n",
    "selector=VarianceThreshold(threshold=(0.05))\n",
    "selector.fit_transform(X)#建议阈值为0.05左右"
   ]
  },
  {
   "cell_type": "code",
   "execution_count": 3,
   "metadata": {},
   "outputs": [
    {
     "data": {
      "text/plain": [
       "array([0.        , 0.21      , 0.20305556, 0.20728889, 0.2016    ])"
      ]
     },
     "execution_count": 3,
     "metadata": {},
     "output_type": "execute_result"
    }
   ],
   "source": [
    "selector.variances_"
   ]
  },
  {
   "cell_type": "code",
   "execution_count": 4,
   "metadata": {},
   "outputs": [
    {
     "data": {
      "text/html": [
       "<div>\n",
       "<style scoped>\n",
       "    .dataframe tbody tr th:only-of-type {\n",
       "        vertical-align: middle;\n",
       "    }\n",
       "\n",
       "    .dataframe tbody tr th {\n",
       "        vertical-align: top;\n",
       "    }\n",
       "\n",
       "    .dataframe thead th {\n",
       "        text-align: right;\n",
       "    }\n",
       "</style>\n",
       "<table border=\"1\" class=\"dataframe\">\n",
       "  <thead>\n",
       "    <tr style=\"text-align: right;\">\n",
       "      <th></th>\n",
       "      <th>0</th>\n",
       "      <th>1</th>\n",
       "      <th>2</th>\n",
       "      <th>3</th>\n",
       "      <th>4</th>\n",
       "    </tr>\n",
       "  </thead>\n",
       "  <tbody>\n",
       "    <tr>\n",
       "      <th>count</th>\n",
       "      <td>300.0</td>\n",
       "      <td>300.000000</td>\n",
       "      <td>300.000000</td>\n",
       "      <td>300.000000</td>\n",
       "      <td>300.000000</td>\n",
       "    </tr>\n",
       "    <tr>\n",
       "      <th>mean</th>\n",
       "      <td>7.0</td>\n",
       "      <td>6.700000</td>\n",
       "      <td>6.716667</td>\n",
       "      <td>6.706667</td>\n",
       "      <td>6.720000</td>\n",
       "    </tr>\n",
       "    <tr>\n",
       "      <th>std</th>\n",
       "      <td>0.0</td>\n",
       "      <td>0.459023</td>\n",
       "      <td>0.451370</td>\n",
       "      <td>0.456051</td>\n",
       "      <td>0.449749</td>\n",
       "    </tr>\n",
       "    <tr>\n",
       "      <th>min</th>\n",
       "      <td>7.0</td>\n",
       "      <td>6.000000</td>\n",
       "      <td>6.000000</td>\n",
       "      <td>6.000000</td>\n",
       "      <td>6.000000</td>\n",
       "    </tr>\n",
       "    <tr>\n",
       "      <th>25%</th>\n",
       "      <td>7.0</td>\n",
       "      <td>6.000000</td>\n",
       "      <td>6.000000</td>\n",
       "      <td>6.000000</td>\n",
       "      <td>6.000000</td>\n",
       "    </tr>\n",
       "    <tr>\n",
       "      <th>50%</th>\n",
       "      <td>7.0</td>\n",
       "      <td>7.000000</td>\n",
       "      <td>7.000000</td>\n",
       "      <td>7.000000</td>\n",
       "      <td>7.000000</td>\n",
       "    </tr>\n",
       "    <tr>\n",
       "      <th>75%</th>\n",
       "      <td>7.0</td>\n",
       "      <td>7.000000</td>\n",
       "      <td>7.000000</td>\n",
       "      <td>7.000000</td>\n",
       "      <td>7.000000</td>\n",
       "    </tr>\n",
       "    <tr>\n",
       "      <th>max</th>\n",
       "      <td>7.0</td>\n",
       "      <td>7.000000</td>\n",
       "      <td>7.000000</td>\n",
       "      <td>7.000000</td>\n",
       "      <td>7.000000</td>\n",
       "    </tr>\n",
       "  </tbody>\n",
       "</table>\n",
       "</div>"
      ],
      "text/plain": [
       "           0           1           2           3           4\n",
       "count  300.0  300.000000  300.000000  300.000000  300.000000\n",
       "mean     7.0    6.700000    6.716667    6.706667    6.720000\n",
       "std      0.0    0.459023    0.451370    0.456051    0.449749\n",
       "min      7.0    6.000000    6.000000    6.000000    6.000000\n",
       "25%      7.0    6.000000    6.000000    6.000000    6.000000\n",
       "50%      7.0    7.000000    7.000000    7.000000    7.000000\n",
       "75%      7.0    7.000000    7.000000    7.000000    7.000000\n",
       "max      7.0    7.000000    7.000000    7.000000    7.000000"
      ]
     },
     "execution_count": 4,
     "metadata": {},
     "output_type": "execute_result"
    }
   ],
   "source": [
    "X_fr.describe()"
   ]
  },
  {
   "cell_type": "code",
   "execution_count": 6,
   "metadata": {},
   "outputs": [
    {
     "data": {
      "text/plain": [
       "(array([0.44398786, 1.03851596, 0.31914032, 0.15589646, 2.33403656]),\n",
       " array([0.50597956, 0.30941044, 0.57276423, 0.693388  , 0.12816918]))"
      ]
     },
     "execution_count": 6,
     "metadata": {},
     "output_type": "execute_result"
    }
   ],
   "source": [
    "from sklearn.feature_selection import f_regression\n",
    "Data_01=np.random.rand()*np.random.randint(2,1000,(200,6))\n",
    "f_regression(Data_01[:,0:5],Data_01[:,5])#返回f值和f-值的p值"
   ]
  },
  {
   "cell_type": "code",
   "execution_count": 10,
   "metadata": {},
   "outputs": [
    {
     "data": {
      "text/plain": [
       "array([0.44398786, 1.03851596, 0.31914032, 0.15589646, 2.33403656])"
      ]
     },
     "execution_count": 10,
     "metadata": {},
     "output_type": "execute_result"
    }
   ],
   "source": [
    "Y1=(Data_01[:, 5] - np.mean(Data_01[:, 5],axis=0))\n",
    "#关联系数\n",
    "cor_1=[np.dot((Data_01[:, k] - np.mean(Data_01[:, k],axis=0))\n",
    "        ,Y1)/(Data_01[:, k].std(0)*Data_01[:, 5].std(0)*len(Data_01[:, 5])) for k in range(5)]\n",
    "#通常我们利用F-检验（F_value(1,n-2)）来检验正态假定下两个变量之间的相关性\n",
    "F=((np.array(cor_1)**2)/(1-(np.array(cor_1)**2)))*(len(Data_01[:, 5])-2)\n",
    "F"
   ]
  },
  {
   "cell_type": "code",
   "execution_count": 9,
   "metadata": {},
   "outputs": [
    {
     "data": {
      "text/plain": [
       "[0.5059795615561491,\n",
       " 0.30941043833696547,\n",
       " 0.5727642294156681,\n",
       " 0.6933879956863616,\n",
       " 0.12816917757410518]"
      ]
     },
     "execution_count": 9,
     "metadata": {},
     "output_type": "execute_result"
    }
   ],
   "source": [
    "p=[]\n",
    "for k in F:\n",
    "     p.append(1-f.cdf(k,1,len(Data_01[:, 5])-2))\n",
    "p"
   ]
  },
  {
   "cell_type": "code",
   "execution_count": 36,
   "metadata": {},
   "outputs": [
    {
     "data": {
      "text/plain": [
       "200"
      ]
     },
     "execution_count": 36,
     "metadata": {},
     "output_type": "execute_result"
    }
   ],
   "source": [
    "len(Data_01[:, 5])"
   ]
  },
  {
   "cell_type": "code",
   "execution_count": 30,
   "metadata": {},
   "outputs": [],
   "source": [
    "from sklearn.datasets import load_diabetes\n",
    "dia_data=load_diabetes()"
   ]
  },
  {
   "cell_type": "code",
   "execution_count": 31,
   "metadata": {},
   "outputs": [
    {
     "data": {
      "text/plain": [
       "(442, 10)"
      ]
     },
     "execution_count": 31,
     "metadata": {},
     "output_type": "execute_result"
    }
   ],
   "source": [
    "dia_data.data.shape"
   ]
  },
  {
   "cell_type": "code",
   "execution_count": 42,
   "metadata": {},
   "outputs": [
    {
     "data": {
      "text/plain": [
       "(array([ 16.10137401,   0.81742349, 230.65376449, 106.52138379,\n",
       "         20.71056745,  13.74607917,  81.23965868, 100.06926441,\n",
       "        207.27209108,  75.3996832 ]),\n",
       " array([7.05568615e-05, 3.66429295e-01, 3.46600645e-42, 1.64853275e-22,\n",
       "        6.92071179e-06, 2.35984810e-04, 6.16286470e-18, 2.30425328e-21,\n",
       "        8.82375416e-39, 7.58008327e-17]))"
      ]
     },
     "execution_count": 42,
     "metadata": {},
     "output_type": "execute_result"
    }
   ],
   "source": [
    "f_regression(dia_data.data,dia_data.target)"
   ]
  },
  {
   "cell_type": "code",
   "execution_count": 33,
   "metadata": {},
   "outputs": [
    {
     "data": {
      "text/plain": [
       "array([ 16.10137401,   0.81742349, 230.65376449, 106.52138379,\n",
       "        20.71056745,  13.74607917,  81.23965868, 100.06926441,\n",
       "       207.27209108,  75.3996832 ])"
      ]
     },
     "execution_count": 33,
     "metadata": {},
     "output_type": "execute_result"
    }
   ],
   "source": [
    "Y1=(dia_data.target - np.mean(dia_data.target,axis=0))\n",
    "#关联系数\n",
    "cor_1=[np.dot((dia_data.data[:, k] - np.mean(dia_data.data[:, k],axis=0))\n",
    "        ,Y1)/(dia_data.data[:, k].std(0)*dia_data.target.std(0)*len(dia_data.target)) for k in range(10)]\n",
    "#通常我们利用F-检验（F_value(1,n-2)）来检验正态假定下两个变量之间的相关性\n",
    "F1=((np.array(cor_1)**2)/(1-(np.array(cor_1)**2)))*(len(dia_data.data)-2)\n",
    "F1"
   ]
  },
  {
   "cell_type": "code",
   "execution_count": 52,
   "metadata": {},
   "outputs": [
    {
     "data": {
      "text/plain": [
       "(array([6.46981021e+02, 1.18096059e+02, 6.97235272e+02, 5.73060747e+02,\n",
       "        8.36511234e+01, 3.13233079e+02, 5.33793126e+02, 8.61676020e+02,\n",
       "        6.95274435e+01, 9.34592949e-02, 2.68840327e+02, 3.90947023e-02,\n",
       "        2.53897392e+02, 2.43651586e+02, 2.55796780e+00, 5.32473391e+01,\n",
       "        3.90144816e+01, 1.13262760e+02, 2.41174067e-02, 3.46827476e+00,\n",
       "        8.60781707e+02, 1.49596905e+02, 8.97944219e+02, 6.61600206e+02,\n",
       "        1.22472880e+02, 3.04341063e+02, 4.36691939e+02, 9.64385393e+02,\n",
       "        1.18860232e+02, 6.64439606e+01]),\n",
       " array([8.46594057e-096, 4.05863605e-025, 8.43625104e-101, 4.73456431e-088,\n",
       "        1.05185036e-018, 3.93826311e-056, 9.96655576e-084, 7.10115016e-116,\n",
       "        5.73338403e-016, 7.59936804e-001, 9.73894866e-050, 8.43332029e-001,\n",
       "        1.65190518e-047, 5.89552139e-046, 1.10296609e-001, 9.97599465e-013,\n",
       "        8.26017617e-010, 3.07230877e-024, 8.76641818e-001, 6.30735508e-002,\n",
       "        8.48229192e-116, 1.07805749e-030, 5.77139714e-119, 2.82884770e-097,\n",
       "        6.57514363e-026, 7.06981635e-055, 2.46466396e-072, 1.96909971e-124,\n",
       "        2.95112058e-025, 2.31643245e-015]))"
      ]
     },
     "execution_count": 52,
     "metadata": {},
     "output_type": "execute_result"
    }
   ],
   "source": [
    "from sklearn.feature_selection import f_classif\n",
    "from sklearn.datasets import load_breast_cancer\n",
    "cancer_data=load_breast_cancer()\n",
    "f_classif(cancer_data.data,cancer_data.target)"
   ]
  },
  {
   "cell_type": "code",
   "execution_count": 63,
   "metadata": {},
   "outputs": [
    {
     "data": {
      "text/plain": [
       "array([[1.799e+01, 1.038e+01, 1.228e+02, ..., 2.654e-01, 4.601e-01,\n",
       "        1.189e-01],\n",
       "       [2.057e+01, 1.777e+01, 1.329e+02, ..., 1.860e-01, 2.750e-01,\n",
       "        8.902e-02],\n",
       "       [1.969e+01, 2.125e+01, 1.300e+02, ..., 2.430e-01, 3.613e-01,\n",
       "        8.758e-02],\n",
       "       ...,\n",
       "       [1.660e+01, 2.808e+01, 1.083e+02, ..., 1.418e-01, 2.218e-01,\n",
       "        7.820e-02],\n",
       "       [2.060e+01, 2.933e+01, 1.401e+02, ..., 2.650e-01, 4.087e-01,\n",
       "        1.240e-01],\n",
       "       [7.760e+00, 2.454e+01, 4.792e+01, ..., 0.000e+00, 2.871e-01,\n",
       "        7.039e-02]])"
      ]
     },
     "execution_count": 63,
     "metadata": {},
     "output_type": "execute_result"
    }
   ],
   "source": [
    "cancer_data.data"
   ]
  },
  {
   "cell_type": "code",
   "execution_count": 64,
   "metadata": {},
   "outputs": [
    {
     "data": {
      "text/plain": [
       "array([6.46981021e+02, 1.18096059e+02, 6.97235272e+02, 5.73060747e+02,\n",
       "       8.36511234e+01, 3.13233079e+02, 5.33793126e+02, 8.61676020e+02,\n",
       "       6.95274435e+01, 9.34592949e-02, 2.68840327e+02, 3.90947023e-02,\n",
       "       2.53897392e+02, 2.43651586e+02, 2.55796780e+00, 5.32473391e+01,\n",
       "       3.90144816e+01, 1.13262760e+02, 2.41174067e-02, 3.46827476e+00,\n",
       "       8.60781707e+02, 1.49596905e+02, 8.97944219e+02, 6.61600206e+02,\n",
       "       1.22472880e+02, 3.04341063e+02, 4.36691939e+02, 9.64385393e+02,\n",
       "       1.18860232e+02, 6.64439606e+01])"
      ]
     },
     "execution_count": 64,
     "metadata": {},
     "output_type": "execute_result"
    }
   ],
   "source": [
    "Y1=(cancer_data.target - np.mean(cancer_data.target,axis=0))\n",
    "#关联系数\n",
    "cor_1=[np.dot((cancer_data.data[:, k] - np.mean(cancer_data.data[:, k],axis=0))\n",
    "        ,Y1)/(cancer_data.data[:, k].std(0)*cancer_data.target.std(0)*len(cancer_data.target)) for k in range(30)]\n",
    "#通常我们利用F-检验（F_value(1,n-2)）来检验正态假定下两个变量之间的相关性\n",
    "F1=((np.array(cor_1)**2)/(1-(np.array(cor_1)**2)))*(len(cancer_data.data)-2)\n",
    "F1"
   ]
  },
  {
   "cell_type": "code",
   "execution_count": 57,
   "metadata": {},
   "outputs": [],
   "source": [
    "#array([6.46981021e+02, 1.18096059e+02, 6.97235272e+02, 5.73060747e+02,\n",
    "        #8.36511234e+01, 3.13233079e+02, 5.33793126e+02, 8.61676020e+02,\n",
    "        #6.95274435e+01, 9.34592949e-02, 2.68840327e+02, 3.90947023e-02,\n",
    "        #2.53897392e+02, 2.43651586e+02, 2.55796780e+00, 5.32473391e+01,\n",
    "        #3.90144816e+01, 1.13262760e+02, 2.41174067e-02, 3.46827476e+00,\n",
    "        #8.60781707e+02, 1.49596905e+02, 8.97944219e+02, 6.61600206e+02,\n",
    "        #1.22472880e+02, 3.04341063e+02, 4.36691939e+02, 9.64385393e+02,\n",
    "        #1.18860232e+02, 6.64439606e+01]),"
   ]
  },
  {
   "cell_type": "code",
   "execution_count": 8,
   "metadata": {},
   "outputs": [
    {
     "name": "stdout",
     "output_type": "stream",
     "text": [
      "(150, 4)\n",
      "[[1.4 0.2]\n",
      " [1.4 0.2]\n",
      " [1.3 0.2]\n",
      " [1.5 0.2]\n",
      " [1.4 0.2]\n",
      " [1.7 0.4]\n",
      " [1.4 0.3]\n",
      " [1.5 0.2]\n",
      " [1.4 0.2]\n",
      " [1.5 0.1]\n",
      " [1.5 0.2]\n",
      " [1.6 0.2]\n",
      " [1.4 0.1]\n",
      " [1.1 0.1]\n",
      " [1.2 0.2]\n",
      " [1.5 0.4]\n",
      " [1.3 0.4]\n",
      " [1.4 0.3]\n",
      " [1.7 0.3]\n",
      " [1.5 0.3]\n",
      " [1.7 0.2]\n",
      " [1.5 0.4]\n",
      " [1.  0.2]\n",
      " [1.7 0.5]\n",
      " [1.9 0.2]\n",
      " [1.6 0.2]\n",
      " [1.6 0.4]\n",
      " [1.5 0.2]\n",
      " [1.4 0.2]\n",
      " [1.6 0.2]\n",
      " [1.6 0.2]\n",
      " [1.5 0.4]\n",
      " [1.5 0.1]\n",
      " [1.4 0.2]\n",
      " [1.5 0.2]\n",
      " [1.2 0.2]\n",
      " [1.3 0.2]\n",
      " [1.4 0.1]\n",
      " [1.3 0.2]\n",
      " [1.5 0.2]\n",
      " [1.3 0.3]\n",
      " [1.3 0.3]\n",
      " [1.3 0.2]\n",
      " [1.6 0.6]\n",
      " [1.9 0.4]\n",
      " [1.4 0.3]\n",
      " [1.6 0.2]\n",
      " [1.4 0.2]\n",
      " [1.5 0.2]\n",
      " [1.4 0.2]\n",
      " [4.7 1.4]\n",
      " [4.5 1.5]\n",
      " [4.9 1.5]\n",
      " [4.  1.3]\n",
      " [4.6 1.5]\n",
      " [4.5 1.3]\n",
      " [4.7 1.6]\n",
      " [3.3 1. ]\n",
      " [4.6 1.3]\n",
      " [3.9 1.4]\n",
      " [3.5 1. ]\n",
      " [4.2 1.5]\n",
      " [4.  1. ]\n",
      " [4.7 1.4]\n",
      " [3.6 1.3]\n",
      " [4.4 1.4]\n",
      " [4.5 1.5]\n",
      " [4.1 1. ]\n",
      " [4.5 1.5]\n",
      " [3.9 1.1]\n",
      " [4.8 1.8]\n",
      " [4.  1.3]\n",
      " [4.9 1.5]\n",
      " [4.7 1.2]\n",
      " [4.3 1.3]\n",
      " [4.4 1.4]\n",
      " [4.8 1.4]\n",
      " [5.  1.7]\n",
      " [4.5 1.5]\n",
      " [3.5 1. ]\n",
      " [3.8 1.1]\n",
      " [3.7 1. ]\n",
      " [3.9 1.2]\n",
      " [5.1 1.6]\n",
      " [4.5 1.5]\n",
      " [4.5 1.6]\n",
      " [4.7 1.5]\n",
      " [4.4 1.3]\n",
      " [4.1 1.3]\n",
      " [4.  1.3]\n",
      " [4.4 1.2]\n",
      " [4.6 1.4]\n",
      " [4.  1.2]\n",
      " [3.3 1. ]\n",
      " [4.2 1.3]\n",
      " [4.2 1.2]\n",
      " [4.2 1.3]\n",
      " [4.3 1.3]\n",
      " [3.  1.1]\n",
      " [4.1 1.3]\n",
      " [6.  2.5]\n",
      " [5.1 1.9]\n",
      " [5.9 2.1]\n",
      " [5.6 1.8]\n",
      " [5.8 2.2]\n",
      " [6.6 2.1]\n",
      " [4.5 1.7]\n",
      " [6.3 1.8]\n",
      " [5.8 1.8]\n",
      " [6.1 2.5]\n",
      " [5.1 2. ]\n",
      " [5.3 1.9]\n",
      " [5.5 2.1]\n",
      " [5.  2. ]\n",
      " [5.1 2.4]\n",
      " [5.3 2.3]\n",
      " [5.5 1.8]\n",
      " [6.7 2.2]\n",
      " [6.9 2.3]\n",
      " [5.  1.5]\n",
      " [5.7 2.3]\n",
      " [4.9 2. ]\n",
      " [6.7 2. ]\n",
      " [4.9 1.8]\n",
      " [5.7 2.1]\n",
      " [6.  1.8]\n",
      " [4.8 1.8]\n",
      " [4.9 1.8]\n",
      " [5.6 2.1]\n",
      " [5.8 1.6]\n",
      " [6.1 1.9]\n",
      " [6.4 2. ]\n",
      " [5.6 2.2]\n",
      " [5.1 1.5]\n",
      " [5.6 1.4]\n",
      " [6.1 2.3]\n",
      " [5.6 2.4]\n",
      " [5.5 1.8]\n",
      " [4.8 1.8]\n",
      " [5.4 2.1]\n",
      " [5.6 2.4]\n",
      " [5.1 2.3]\n",
      " [5.1 1.9]\n",
      " [5.9 2.3]\n",
      " [5.7 2.5]\n",
      " [5.2 2.3]\n",
      " [5.  1.9]\n",
      " [5.2 2. ]\n",
      " [5.4 2.3]\n",
      " [5.1 1.8]]\n"
     ]
    }
   ],
   "source": [
    "from sklearn.datasets import load_iris,load_breast_cancer,load_linnerud\n",
    "from sklearn.feature_selection import SelectKBest\n",
    "from sklearn.feature_selection import chi2\n",
    "#纸鸢花数据集\n",
    "iris = load_iris()\n",
    "X, y = iris.data, iris.target\n",
    "print(X.shape)\n",
    "colhr=SelectKBest(chi2, k=2).fit_transform(X, y)#选择与y值最相关的三个列\n",
    "print(colhr)"
   ]
  },
  {
   "cell_type": "code",
   "execution_count": 16,
   "metadata": {},
   "outputs": [
    {
     "name": "stdout",
     "output_type": "stream",
     "text": [
      "(569, 30)\n"
     ]
    },
    {
     "data": {
      "text/plain": [
       "array([[1956.],\n",
       "       [1709.]])"
      ]
     },
     "execution_count": 16,
     "metadata": {},
     "output_type": "execute_result"
    }
   ],
   "source": [
    "lbc=load_breast_cancer()\n",
    "X1, y1 = lbc.data, lbc.target\n",
    "print(X1.shape)\n",
    "colhr1=SelectKBest(chi2, k=1).fit_transform(X1, y1)#选择与y值最相关的7个列\n",
    "colhr1[1:3]"
   ]
  },
  {
   "cell_type": "code",
   "execution_count": 22,
   "metadata": {},
   "outputs": [
    {
     "name": "stdout",
     "output_type": "stream",
     "text": [
      "[[162.  60.]\n",
      " [110.  60.]\n",
      " [101. 101.]\n",
      " [105.  37.]\n",
      " [155.  58.]\n",
      " [101.  42.]\n",
      " [101.  38.]\n",
      " [125.  40.]\n",
      " [200.  40.]\n",
      " [251. 250.]\n",
      " [120.  38.]\n",
      " [210. 115.]\n",
      " [215. 105.]\n",
      " [ 50.  50.]\n",
      " [ 70.  31.]\n",
      " [210. 120.]\n",
      " [ 60.  25.]\n",
      " [230.  80.]\n",
      " [225.  73.]\n",
      " [110.  43.]]\n"
     ]
    }
   ],
   "source": [
    "tnx = load_linnerud()\n",
    "X2, y2= tnx.data, tnx.target\n",
    "#print(X2.shape,y2.shape)\n",
    "colhr2=SelectKBest(chi2, k=2).fit_transform(X2, y2[:,0:1])#选择与y值最相关的2个列\n",
    "print(colhr2)"
   ]
  },
  {
   "cell_type": "code",
   "execution_count": 18,
   "metadata": {},
   "outputs": [
    {
     "data": {
      "text/plain": [
       "{'data': array([[  5., 162.,  60.],\n",
       "        [  2., 110.,  60.],\n",
       "        [ 12., 101., 101.],\n",
       "        [ 12., 105.,  37.],\n",
       "        [ 13., 155.,  58.],\n",
       "        [  4., 101.,  42.],\n",
       "        [  8., 101.,  38.],\n",
       "        [  6., 125.,  40.],\n",
       "        [ 15., 200.,  40.],\n",
       "        [ 17., 251., 250.],\n",
       "        [ 17., 120.,  38.],\n",
       "        [ 13., 210., 115.],\n",
       "        [ 14., 215., 105.],\n",
       "        [  1.,  50.,  50.],\n",
       "        [  6.,  70.,  31.],\n",
       "        [ 12., 210., 120.],\n",
       "        [  4.,  60.,  25.],\n",
       "        [ 11., 230.,  80.],\n",
       "        [ 15., 225.,  73.],\n",
       "        [  2., 110.,  43.]]),\n",
       " 'feature_names': ['Chins', 'Situps', 'Jumps'],\n",
       " 'target': array([[191.,  36.,  50.],\n",
       "        [189.,  37.,  52.],\n",
       "        [193.,  38.,  58.],\n",
       "        [162.,  35.,  62.],\n",
       "        [189.,  35.,  46.],\n",
       "        [182.,  36.,  56.],\n",
       "        [211.,  38.,  56.],\n",
       "        [167.,  34.,  60.],\n",
       "        [176.,  31.,  74.],\n",
       "        [154.,  33.,  56.],\n",
       "        [169.,  34.,  50.],\n",
       "        [166.,  33.,  52.],\n",
       "        [154.,  34.,  64.],\n",
       "        [247.,  46.,  50.],\n",
       "        [193.,  36.,  46.],\n",
       "        [202.,  37.,  62.],\n",
       "        [176.,  37.,  54.],\n",
       "        [157.,  32.,  52.],\n",
       "        [156.,  33.,  54.],\n",
       "        [138.,  33.,  68.]]),\n",
       " 'target_names': ['Weight', 'Waist', 'Pulse'],\n",
       " 'DESCR': '.. _linnerrud_dataset:\\n\\nLinnerrud dataset\\n-----------------\\n\\n**Data Set Characteristics:**\\n\\n    :Number of Instances: 20\\n    :Number of Attributes: 3\\n    :Missing Attribute Values: None\\n\\nThe Linnerud dataset constains two small dataset:\\n\\n- *physiological* - CSV containing 20 observations on 3 exercise variables:\\n   Weight, Waist and Pulse.\\n\\n- *exercise* - CSV containing 20 observations on 3 physiological variables:\\n   Chins, Situps and Jumps.\\n\\n.. topic:: References\\n\\n  * Tenenhaus, M. (1998). La regression PLS: theorie et pratique. Paris: Editions Technic.\\n',\n",
       " 'data_filename': 'C:\\\\Users\\\\xdlxdf\\\\Anaconda3\\\\lib\\\\site-packages\\\\sklearn\\\\datasets\\\\data/linnerud_exercise.csv',\n",
       " 'target_filename': 'C:\\\\Users\\\\xdlxdf\\\\Anaconda3\\\\lib\\\\site-packages\\\\sklearn\\\\datasets\\\\data/linnerud_physiological.csv'}"
      ]
     },
     "execution_count": 18,
     "metadata": {},
     "output_type": "execute_result"
    }
   ],
   "source": [
    "tnx"
   ]
  },
  {
   "cell_type": "code",
   "execution_count": 30,
   "metadata": {},
   "outputs": [
    {
     "name": "stdout",
     "output_type": "stream",
     "text": [
      "Object `pd.dcor` not found.\n"
     ]
    }
   ],
   "source": [
    "?pd.dcor"
   ]
  },
  {
   "cell_type": "code",
   "execution_count": 77,
   "metadata": {},
   "outputs": [],
   "source": [
    "import numpy as np\n",
    "from scipy import linalg\n",
    "import pandas as pd\n",
    "def dist_corr(x,y):#如果x,y是二维数组，应通过行矢量形成距离矩阵\n",
    "    col=x.shape[0]\n",
    "    a=np.zeros((col,col))\n",
    "    b=np.zeros((col,col))\n",
    "    A=np.zeros((col,col))\n",
    "    B=np.zeros((col,col))\n",
    "    for j in range(col):\n",
    "        for k in range(col):\n",
    "            a[j,k]=linalg.norm(x[j]-x[k])\n",
    "            b[j,k]=linalg.norm(y[j]-y[k])\n",
    "    #print(a,a.shape,b,b.shape)\n",
    "    for m in  range(col):\n",
    "        for n in range(col):\n",
    "            A[m,n]=a[m,n]-a[m].mean()-a[:,n].mean()+a.mean()\n",
    "            B[m,n]=b[m,n]-b[m].mean()-b[:,n].mean()+b.mean()\n",
    "    cov_xy=np.sqrt((1/(col**2))*((A*B).sum()))\n",
    "    cov_xx=np.sqrt((1/(col**2))*((A*A).sum()))\n",
    "    cov_yy=np.sqrt((1/(col**2))*((B*B).sum()))\n",
    "    return cov_xy/np.sqrt(cov_xx*cov_yy)"
   ]
  },
  {
   "cell_type": "code",
   "execution_count": 78,
   "metadata": {},
   "outputs": [],
   "source": [
    "from scipy.stats import pearsonr\n",
    "X=np.random.randint(-100,100,200)*0.1\n",
    "X=X.reshape(len(X),1)"
   ]
  },
  {
   "cell_type": "code",
   "execution_count": 79,
   "metadata": {},
   "outputs": [
    {
     "data": {
      "text/plain": [
       "array([-1.6])"
      ]
     },
     "execution_count": 79,
     "metadata": {},
     "output_type": "execute_result"
    }
   ],
   "source": [
    "X[2]"
   ]
  },
  {
   "cell_type": "code",
   "execution_count": 80,
   "metadata": {},
   "outputs": [
    {
     "name": "stdout",
     "output_type": "stream",
     "text": [
      "0.5115768180767845\n"
     ]
    }
   ],
   "source": [
    "Y=X**2\n",
    "#print(pearsonr(X,Y))\n",
    "print(dist_corr(X,Y))"
   ]
  },
  {
   "cell_type": "code",
   "execution_count": 84,
   "metadata": {},
   "outputs": [
    {
     "name": "stdout",
     "output_type": "stream",
     "text": [
      "['CRIM' 'ZN' 'INDUS' 'CHAS' 'NOX' 'RM' 'AGE' 'DIS' 'RAD' 'TAX' 'PTRATIO'\n",
      " 'B' 'LSTAT']\n"
     ]
    },
    {
     "data": {
      "text/plain": [
       "(array([False, False, False, False,  True, False, False, False, False,\n",
       "        False, False, False, False]),\n",
       " array([ 8, 10,  9,  3,  1,  2, 13,  5,  7, 11,  4, 12,  6]))"
      ]
     },
     "execution_count": 84,
     "metadata": {},
     "output_type": "execute_result"
    }
   ],
   "source": [
    "from sklearn.feature_selection import RFE\n",
    "from sklearn.linear_model import LinearRegression\n",
    "from sklearn.datasets import load_boston\n",
    "boston = load_boston()\n",
    "#波士顿房价数据集\n",
    "X = boston[\"data\"]\n",
    "Y = boston[\"target\"]\n",
    "names = boston[\"feature_names\"]\n",
    "lr = LinearRegression()\n",
    "rfe = RFE(lr, n_features_to_select=1)\n",
    "#创建rfe模型\n",
    "rfe.fit(X,Y)\n",
    "#训练rfe模型\n",
    "print(names)\n",
    "rfe.support_,rfe.ranking_\n",
    "\n"
   ]
  },
  {
   "cell_type": "code",
   "execution_count": 86,
   "metadata": {},
   "outputs": [
    {
     "data": {
      "text/plain": [
       "[(8, 'CRIM'),\n",
       " (10, 'ZN'),\n",
       " (9, 'INDUS'),\n",
       " (3, 'CHAS'),\n",
       " (1, 'NOX'),\n",
       " (2, 'RM'),\n",
       " (13, 'AGE'),\n",
       " (5, 'DIS'),\n",
       " (7, 'RAD'),\n",
       " (11, 'TAX'),\n",
       " (4, 'PTRATIO'),\n",
       " (12, 'B'),\n",
       " (6, 'LSTAT')]"
      ]
     },
     "execution_count": 86,
     "metadata": {},
     "output_type": "execute_result"
    }
   ],
   "source": [
    "list(zip(list(rfe.ranking_),list(names)))"
   ]
  },
  {
   "cell_type": "code",
   "execution_count": 87,
   "metadata": {},
   "outputs": [
    {
     "data": {
      "text/plain": [
       "[(1, 'NOX'),\n",
       " (2, 'RM'),\n",
       " (3, 'CHAS'),\n",
       " (4, 'PTRATIO'),\n",
       " (5, 'DIS'),\n",
       " (6, 'LSTAT'),\n",
       " (7, 'RAD'),\n",
       " (8, 'CRIM'),\n",
       " (9, 'INDUS'),\n",
       " (10, 'ZN'),\n",
       " (11, 'TAX'),\n",
       " (12, 'B'),\n",
       " (13, 'AGE')]"
      ]
     },
     "execution_count": 87,
     "metadata": {},
     "output_type": "execute_result"
    }
   ],
   "source": [
    "sorted(zip(list(rfe.ranking_),list(names)))"
   ]
  },
  {
   "cell_type": "code",
   "execution_count": 89,
   "metadata": {},
   "outputs": [
    {
     "data": {
      "text/plain": [
       "\".. _boston_dataset:\\n\\nBoston house prices dataset\\n---------------------------\\n\\n**Data Set Characteristics:**  \\n\\n    :Number of Instances: 506 \\n\\n    :Number of Attributes: 13 numeric/categorical predictive. Median Value (attribute 14) is usually the target.\\n\\n    :Attribute Information (in order):\\n        - CRIM     per capita crime rate by town\\n        - ZN       proportion of residential land zoned for lots over 25,000 sq.ft.\\n        - INDUS    proportion of non-retail business acres per town\\n        - CHAS     Charles River dummy variable (= 1 if tract bounds river; 0 otherwise)\\n        - NOX      nitric oxides concentration (parts per 10 million)\\n        - RM       average number of rooms per dwelling\\n        - AGE      proportion of owner-occupied units built prior to 1940\\n        - DIS      weighted distances to five Boston employment centres\\n        - RAD      index of accessibility to radial highways\\n        - TAX      full-value property-tax rate per $10,000\\n        - PTRATIO  pupil-teacher ratio by town\\n        - B        1000(Bk - 0.63)^2 where Bk is the proportion of blacks by town\\n        - LSTAT    % lower status of the population\\n        - MEDV     Median value of owner-occupied homes in $1000's\\n\\n    :Missing Attribute Values: None\\n\\n    :Creator: Harrison, D. and Rubinfeld, D.L.\\n\\nThis is a copy of UCI ML housing dataset.\\nhttps://archive.ics.uci.edu/ml/machine-learning-databases/housing/\\n\\n\\nThis dataset was taken from the StatLib library which is maintained at Carnegie Mellon University.\\n\\nThe Boston house-price data of Harrison, D. and Rubinfeld, D.L. 'Hedonic\\nprices and the demand for clean air', J. Environ. Economics & Management,\\nvol.5, 81-102, 1978.   Used in Belsley, Kuh & Welsch, 'Regression diagnostics\\n...', Wiley, 1980.   N.B. Various transformations are used in the table on\\npages 244-261 of the latter.\\n\\nThe Boston house-price data has been used in many machine learning papers that address regression\\nproblems.   \\n     \\n.. topic:: References\\n\\n   - Belsley, Kuh & Welsch, 'Regression diagnostics: Identifying Influential Data and Sources of Collinearity', Wiley, 1980. 244-261.\\n   - Quinlan,R. (1993). Combining Instance-Based and Model-Based Learning. In Proceedings on the Tenth International Conference of Machine Learning, 236-243, University of Massachusetts, Amherst. Morgan Kaufmann.\\n\""
      ]
     },
     "execution_count": 89,
     "metadata": {},
     "output_type": "execute_result"
    }
   ],
   "source": [
    "boston['DESCR']"
   ]
  },
  {
   "cell_type": "code",
   "execution_count": null,
   "metadata": {},
   "outputs": [],
   "source": []
  }
 ],
 "metadata": {
  "kernelspec": {
   "display_name": "Python 3",
   "language": "python",
   "name": "python3"
  },
  "language_info": {
   "codemirror_mode": {
    "name": "ipython",
    "version": 3
   },
   "file_extension": ".py",
   "mimetype": "text/x-python",
   "name": "python",
   "nbconvert_exporter": "python",
   "pygments_lexer": "ipython3",
   "version": "3.7.1"
  }
 },
 "nbformat": 4,
 "nbformat_minor": 2
}
