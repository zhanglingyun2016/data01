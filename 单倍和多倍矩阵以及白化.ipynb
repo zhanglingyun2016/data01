{
 "cells": [
  {
   "cell_type": "code",
   "execution_count": 137,
   "metadata": {},
   "outputs": [],
   "source": [
    "import numpy as np\n",
    "import pandas as pd"
   ]
  },
  {
   "cell_type": "code",
   "execution_count": 99,
   "metadata": {},
   "outputs": [],
   "source": [
    "data1=np.round(np.random.normal(np.random.randint(1,100,1),2.0,(100,8)),1)\n",
    "data2=data1.T@data1"
   ]
  },
  {
   "cell_type": "code",
   "execution_count": 100,
   "metadata": {},
   "outputs": [
    {
     "data": {
      "text/plain": [
       "array([[374980.41, 373747.05, 373000.73, 373518.38, 372988.93, 375070.87,\n",
       "        374917.13, 373900.06],\n",
       "       [373747.05, 373568.03, 372298.4 , 372847.28, 372293.89, 374436.58,\n",
       "        374231.2 , 373186.98],\n",
       "       [373000.73, 372298.4 , 371948.78, 372076.04, 371510.7 , 373615.58,\n",
       "        373455.23, 372524.67],\n",
       "       [373518.38, 372847.28, 372076.04, 373069.55, 372098.01, 374156.7 ,\n",
       "        373997.86, 373092.03],\n",
       "       [372988.93, 372293.89, 371510.7 , 372098.01, 372015.25, 373640.43,\n",
       "        373477.39, 372480.26],\n",
       "       [375070.87, 374436.58, 373615.58, 374156.7 , 373640.43, 376130.93,\n",
       "        375550.05, 374555.81],\n",
       "       [374917.13, 374231.2 , 373455.23, 373997.86, 373477.39, 375550.05,\n",
       "        375904.89, 374432.43],\n",
       "       [373900.06, 373186.98, 372524.67, 373092.03, 372480.26, 374555.81,\n",
       "        374432.43, 373810.27]])"
      ]
     },
     "execution_count": 100,
     "metadata": {},
     "output_type": "execute_result"
    }
   ],
   "source": [
    "data2"
   ]
  },
  {
   "cell_type": "code",
   "execution_count": 101,
   "metadata": {},
   "outputs": [
    {
     "data": {
      "text/plain": [
       "8"
      ]
     },
     "execution_count": 101,
     "metadata": {},
     "output_type": "execute_result"
    }
   ],
   "source": [
    "np.linalg.matrix_rank(data2)"
   ]
  },
  {
   "cell_type": "code",
   "execution_count": 102,
   "metadata": {},
   "outputs": [],
   "source": [
    "infor1=np.linalg.eig(data2)"
   ]
  },
  {
   "cell_type": "code",
   "execution_count": 103,
   "metadata": {},
   "outputs": [
    {
     "data": {
      "text/plain": [
       "8"
      ]
     },
     "execution_count": 103,
     "metadata": {},
     "output_type": "execute_result"
    }
   ],
   "source": [
    "len(np.unique(infor1[0]))"
   ]
  },
  {
   "cell_type": "code",
   "execution_count": 104,
   "metadata": {},
   "outputs": [
    {
     "data": {
      "text/plain": [
       "(8, 8)"
      ]
     },
     "execution_count": 104,
     "metadata": {},
     "output_type": "execute_result"
    }
   ],
   "source": [
    "infor1[1].shape"
   ]
  },
  {
   "cell_type": "code",
   "execution_count": 133,
   "metadata": {},
   "outputs": [
    {
     "data": {
      "text/plain": [
       "100"
      ]
     },
     "execution_count": 133,
     "metadata": {},
     "output_type": "execute_result"
    }
   ],
   "source": [
    "data4=np.round(np.random.normal(np.random.randint(1,100,1),2.0,(100,100)),1)\n",
    "np.linalg.matrix_rank(data4)"
   ]
  },
  {
   "cell_type": "code",
   "execution_count": 134,
   "metadata": {},
   "outputs": [],
   "source": [
    "infor2=np.linalg.eig(data4)"
   ]
  },
  {
   "cell_type": "code",
   "execution_count": 135,
   "metadata": {},
   "outputs": [
    {
     "data": {
      "text/plain": [
       "100"
      ]
     },
     "execution_count": 135,
     "metadata": {},
     "output_type": "execute_result"
    }
   ],
   "source": [
    "len(np.unique(infor2[0]))"
   ]
  },
  {
   "cell_type": "code",
   "execution_count": 139,
   "metadata": {},
   "outputs": [
    {
     "data": {
      "text/plain": [
       "PCA(copy=True, iterated_power='auto', n_components=3, random_state=None,\n",
       "  svd_solver='auto', tol=0.0, whiten=True)"
      ]
     },
     "execution_count": 139,
     "metadata": {},
     "output_type": "execute_result"
    }
   ],
   "source": [
    "data = pd.read_excel(r'principal_component.xls', header = None)\n",
    "from sklearn.decomposition import PCA\n",
    "pca=PCA(3,whiten=True)\n",
    "pca.fit(data)"
   ]
  },
  {
   "cell_type": "code",
   "execution_count": 140,
   "metadata": {},
   "outputs": [
    {
     "data": {
      "text/plain": [
       "array([[ 0.4092006 ,  1.87527696,  0.8310095 ],\n",
       "       [ 0.01425095, -0.71895297, -0.98378133],\n",
       "       [-1.18430954, -0.31644215, -0.10553066],\n",
       "       [-0.72095604,  0.25506268, -0.31938734],\n",
       "       [ 0.27128003,  1.11014802,  2.02355866],\n",
       "       [ 1.20689773, -1.03884292,  0.15442648],\n",
       "       [-0.1829036 , -0.84333921, -0.5025276 ],\n",
       "       [ 0.69775609,  1.54104821, -1.37070358],\n",
       "       [ 2.04221893, -1.47067143,  0.88530976],\n",
       "       [-0.08736564, -0.4693868 , -0.12535778],\n",
       "       [-1.09617986, -0.26252712,  0.28311046],\n",
       "       [-1.83379272, -0.6662154 ,  0.84417097],\n",
       "       [ 0.16422834,  0.53957487,  0.21344191],\n",
       "       [ 0.29967472,  0.46526723, -1.82773945]])"
      ]
     },
     "execution_count": 140,
     "metadata": {},
     "output_type": "execute_result"
    }
   ],
   "source": [
    "dimension_reduce=pca.transform(data)\n",
    "whitening=dimension_reduce\n",
    "\n",
    "whitening"
   ]
  },
  {
   "cell_type": "code",
   "execution_count": 141,
   "metadata": {},
   "outputs": [
    {
     "data": {
      "text/plain": [
       "array([0.92857143, 0.92857143, 0.92857143])"
      ]
     },
     "execution_count": 141,
     "metadata": {},
     "output_type": "execute_result"
    }
   ],
   "source": [
    "np.var(whitening,axis=0)"
   ]
  },
  {
   "cell_type": "code",
   "execution_count": 142,
   "metadata": {},
   "outputs": [
    {
     "data": {
      "text/plain": [
       "PCA(copy=True, iterated_power='auto', n_components=3, random_state=None,\n",
       "  svd_solver='auto', tol=0.0, whiten=False)"
      ]
     },
     "execution_count": 142,
     "metadata": {},
     "output_type": "execute_result"
    }
   ],
   "source": [
    "pca=PCA(3)\n",
    "pca.fit(data)"
   ]
  },
  {
   "cell_type": "code",
   "execution_count": 143,
   "metadata": {},
   "outputs": [
    {
     "data": {
      "text/plain": [
       "array([[  8.19133694,  16.90402785,   3.90991029],\n",
       "       [  0.28527403,  -6.48074989,  -4.62870368],\n",
       "       [-23.70739074,  -2.85245701,  -0.4965231 ],\n",
       "       [-14.43202637,   2.29917325,  -1.50272151],\n",
       "       [  5.4304568 ,  10.00704077,   9.52086923],\n",
       "       [ 24.15955898,  -9.36428589,   0.72657857],\n",
       "       [ -3.66134607,  -7.60198615,  -2.36439873],\n",
       "       [ 13.96761214,  13.89123979,  -6.44917778],\n",
       "       [ 40.88093588, -13.25685287,   4.16539368],\n",
       "       [ -1.74887665,  -4.23112299,  -0.58980995],\n",
       "       [-21.94321959,  -2.36645883,   1.33203832],\n",
       "       [-36.70868069,  -6.00536554,   3.97183515],\n",
       "       [  3.28750663,   4.86380886,   1.00424688],\n",
       "       [  5.99885871,   4.19398863,  -8.59953736]])"
      ]
     },
     "execution_count": 143,
     "metadata": {},
     "output_type": "execute_result"
    }
   ],
   "source": [
    "dimension_reduce=pca.transform(data)\n",
    "Ohne_Whitening=dimension_reduce\n",
    "\n",
    "Ohne_Whitening"
   ]
  },
  {
   "cell_type": "code",
   "execution_count": 145,
   "metadata": {},
   "outputs": [
    {
     "data": {
      "text/plain": [
       "array([372.09375398,  75.45097903,  20.55592011])"
      ]
     },
     "execution_count": 145,
     "metadata": {},
     "output_type": "execute_result"
    }
   ],
   "source": [
    "np.var(Ohne_Whitening,axis=0)"
   ]
  },
  {
   "cell_type": "code",
   "execution_count": 149,
   "metadata": {},
   "outputs": [
    {
     "data": {
      "text/plain": [
       "array([400.71635044,  81.25490049,  22.13714474])"
      ]
     },
     "execution_count": 149,
     "metadata": {},
     "output_type": "execute_result"
    }
   ],
   "source": [
    "pca.explained_variance_"
   ]
  },
  {
   "cell_type": "code",
   "execution_count": 150,
   "metadata": {},
   "outputs": [
    {
     "data": {
      "text/plain": [
       "array([[ 0.4092006 ,  1.87527696,  0.8310095 ],\n",
       "       [ 0.01425095, -0.71895297, -0.98378133],\n",
       "       [-1.18430954, -0.31644215, -0.10553066],\n",
       "       [-0.72095604,  0.25506268, -0.31938734],\n",
       "       [ 0.27128003,  1.11014802,  2.02355866],\n",
       "       [ 1.20689773, -1.03884292,  0.15442648],\n",
       "       [-0.1829036 , -0.84333921, -0.5025276 ],\n",
       "       [ 0.69775609,  1.54104821, -1.37070358],\n",
       "       [ 2.04221893, -1.47067143,  0.88530976],\n",
       "       [-0.08736564, -0.4693868 , -0.12535778],\n",
       "       [-1.09617986, -0.26252712,  0.28311046],\n",
       "       [-1.83379272, -0.6662154 ,  0.84417097],\n",
       "       [ 0.16422834,  0.53957487,  0.21344191],\n",
       "       [ 0.29967472,  0.46526723, -1.82773945]])"
      ]
     },
     "execution_count": 150,
     "metadata": {},
     "output_type": "execute_result"
    }
   ],
   "source": [
    "Ohne_Whitening/np.sqrt(pca.explained_variance_)"
   ]
  },
  {
   "cell_type": "code",
   "execution_count": null,
   "metadata": {},
   "outputs": [],
   "source": []
  }
 ],
 "metadata": {
  "kernelspec": {
   "display_name": "Python 3",
   "language": "python",
   "name": "python3"
  },
  "language_info": {
   "codemirror_mode": {
    "name": "ipython",
    "version": 3
   },
   "file_extension": ".py",
   "mimetype": "text/x-python",
   "name": "python",
   "nbconvert_exporter": "python",
   "pygments_lexer": "ipython3",
   "version": "3.7.1"
  }
 },
 "nbformat": 4,
 "nbformat_minor": 2
}
